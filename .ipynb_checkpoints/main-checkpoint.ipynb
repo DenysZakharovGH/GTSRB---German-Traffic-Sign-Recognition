{
 "cells": [
  {
   "cell_type": "code",
   "execution_count": 8,
   "id": "d0a6eb30-8af7-4b18-8540-4e6f44665bb3",
   "metadata": {},
   "outputs": [],
   "source": [
    "# Features:\n",
    "# 1. Enable a GPU with \"cuda\"\n",
    "# 2. Saving education progress\n",
    "# 3. Saving weighs and baises\n",
    "# 4. Want to see how looks beetween layers results\n",
    "\n",
    "# 0. Setup enviroment\n",
    "# 0.1. Set up libraries\n",
    "# 0.2. Set up folders with images\n",
    "# 0.3. Set up global names\n",
    "\n",
    "\n",
    "# 1. About data\n",
    "#    1.1 Importing data\n",
    "#    1.2 Data destribution with grafic or pie chart # tran vs test\n",
    "# 2. Data normalisation and reshape\n",
    "#    2.1. images into proper size reshape (might be with cv2 and contours) \n",
    "#    2.2. data separation to train and test\n",
    "\n",
    "# 3. chosing data model and setup\n",
    "#     3.1 Batch_size to choose\n",
    "#     3.2 Adam parameters\n",
    "#     3.3 Dropout \n",
    "#     4.1 between education accuracy result\n",
    "#   conv 32, 4,4 \n",
    "#   conv 64, 4,4\n",
    "#   conv 128,4,4\n",
    "#   conv 128,4,4\n",
    "#   512 input Neurons\n",
    "#   4 hidden layer\n",
    "#   1 output with 0/1 - has tumor or not - softmax activation\n",
    "\n",
    "# Train CNN\n",
    "# show training results, model performance\n",
    "\n",
    "# Avaluate model \n",
    "# confusion matrix\n",
    "\n",
    "# model results accuracy"
   ]
  },
  {
   "cell_type": "code",
   "execution_count": 145,
   "id": "03ced45c-5670-4aa7-94c3-710a75239e4b",
   "metadata": {},
   "outputs": [],
   "source": [
    "# imports\n",
    "import cv2\n",
    "import os, sys\n",
    "import random\n",
    "import numpy as np\n",
    "import pandas as pd\n",
    "import matplotlib.pyplot as plt\n",
    "\n",
    "from tensorflow import keras\n",
    "from tensorflow.keras import layers\n",
    "\n",
    "import tensorflow as tf\n",
    "from tensorflow.keras import layers, models\n",
    "from tensorflow.keras.preprocessing.image import ImageDataGenerator\n",
    "from tensorflow.keras.callbacks import EarlyStopping, ModelCheckpoint\n",
    "from tensorflow.keras.preprocessing.image import ImageDataGenerator\n",
    "\n",
    "from sklearn.model_selection import train_test_split\n",
    "from sklearn.metrics import accuracy_score, confusion_matrix, classification_report\n",
    "from sklearn.metrics import confusion_matrix, ConfusionMatrixDisplay\n"
   ]
  },
  {
   "cell_type": "code",
   "execution_count": 140,
   "id": "79c77ca6-3e78-479b-a8a7-ebd7b18ebeca",
   "metadata": {},
   "outputs": [],
   "source": [
    "# path to images + global vars\n",
    "\n",
    "EXEPT_SIZE = 70\n",
    "NUMBER_OF_EXAMPLES = 205\n",
    "\n",
    "dir_path = os.getcwd()\n",
    "labels_file_path = fr\"{dir_path}\\\\Train.csv\"\n",
    "train_folders_path = fr\"{dir_path}\\\\Train\"\n",
    "docs_images_path = fr\"{dir_path}\\\\docs\""
   ]
  },
  {
   "cell_type": "code",
   "execution_count": 141,
   "id": "de495fdd-ff28-4db0-82d9-4078d0857ebb",
   "metadata": {},
   "outputs": [
    {
     "name": "stdout",
     "output_type": "stream",
     "text": [
      "   Width  Height  Roi.X1  Roi.Y1  Roi.X2  Roi.Y2  ClassId  \\\n",
      "0     76      69       6       6      70      63       20   \n",
      "1     86      75       8       6      79      69       20   \n",
      "2     97      87       8       7      89      80       20   \n",
      "3    111     100       9       8     102      92       20   \n",
      "4    131     119      12      11     120     109       20   \n",
      "\n",
      "                             Path  \n",
      "0  Train/20/00020_00000_00024.png  \n",
      "1  Train/20/00020_00000_00025.png  \n",
      "2  Train/20/00020_00000_00026.png  \n",
      "3  Train/20/00020_00000_00027.png  \n",
      "4  Train/20/00020_00000_00028.png  \n"
     ]
    }
   ],
   "source": [
    "# open data files\n",
    "csvFile = pd.read_csv(labels_file_path)\n",
    "labels_file_no_null = csvFile[csvFile[\"Path\"].notnull()]\n",
    "labels_file = labels_file_no_null.reset_index(drop=True)\n",
    "\n",
    "labels_file_big_images = labels_file[(labels_file[\"Width\"] > EXEPT_SIZE) & (labels_file[\"Width\"] > EXEPT_SIZE)]\n",
    "labels_file = labels_file_big_images.reset_index(drop=True)\n",
    "\n",
    "print(labels_file.head()) "
   ]
  },
  {
   "cell_type": "code",
   "execution_count": 142,
   "id": "5b44f610-6ce9-4bf7-80bc-a580667d9988",
   "metadata": {},
   "outputs": [
    {
     "name": "stdout",
     "output_type": "stream",
     "text": [
      "{20: 38, 0: 43, 1: 391, 2: 241, 3: 128, 4: 185, 5: 115, 6: 18, 7: 109, 8: 81, 9: 175, 10: 120, 11: 409, 12: 396, 13: 588, 14: 230, 15: 68, 16: 83, 17: 31, 18: 377, 19: 73, 21: 74, 22: 67, 23: 169, 24: 66, 25: 465, 26: 126, 27: 43, 28: 143, 29: 64, 30: 89, 31: 151, 32: 18, 33: 121, 34: 47, 35: 115, 36: 33, 37: 35, 38: 204, 39: 73, 40: 82, 41: 18, 42: 9}\n"
     ]
    }
   ],
   "source": [
    "dictionary_labels = {class_id: len(labels_file[labels_file[\"ClassId\"] == class_id]) for class_id in labels_file[\"ClassId\"].unique().tolist()}\n",
    "# create a dictionary where label is a key, numbers of images is a value\n",
    "print(dictionary_labels)"
   ]
  },
  {
   "cell_type": "code",
   "execution_count": 143,
   "id": "6d6f382d-5a86-486f-a01e-cd585c9b4661",
   "metadata": {},
   "outputs": [
    {
     "name": "stdout",
     "output_type": "stream",
     "text": [
      "test_data_images 11950\n",
      "test_data_labels 11950\n"
     ]
    }
   ],
   "source": [
    "# create a test data\n",
    "\n",
    "test_data_images = []\n",
    "test_data_labels = []\n",
    "\n",
    "# Data Augmentation\n",
    "def augment_image(img):\n",
    "    # zufällige horizontale Spiegelung\n",
    "    if random.random() > 0.5:\n",
    "        img = cv2.flip(img, 1)\n",
    "    # zufällige Drehung\n",
    "    angle = random.randint(-15, 15)\n",
    "    h, w = img.shape[:2]\n",
    "    M = cv2.getRotationMatrix2D((w//2, h//2), angle, 1)\n",
    "    img = cv2.warpAffine(img, M, (w, h))\n",
    "    # zufällige Helligkeit\n",
    "    factor = 0.8 + 0.4 * random.random()\n",
    "    #img = np.clip(img * factor, 0, 255).astype(np.uint8)\n",
    "    img = np.clip(img.astype(np.float32) * factor, 0, 255).astype(np.uint8)\n",
    "    return img\n",
    "\n",
    "\n",
    "for index, item in labels_file.iterrows():\n",
    "    path_to_image = item[\"Path\"]\n",
    "    image_cls_ind = int(item[\"ClassId\"])\n",
    "    \n",
    "    img_origin = cv2.imread(dir_path+ \"\\\\\" + path_to_image)\n",
    "    img_resized = cv2.resize(img_origin, (128, 128))\n",
    "\n",
    "    test_data_images.append(img_resized)\n",
    "    test_data_labels.append([image_cls_ind])\n",
    "\n",
    "    amount_of_existed_images = dictionary_labels[image_cls_ind]\n",
    "    number_of_cycles = int(NUMBER_OF_EXAMPLES // amount_of_existed_images)\n",
    "\n",
    "    for iterat in range(number_of_cycles):\n",
    "        img_augmented = augment_image(img_resized)\n",
    "        test_data_images.append(img_augmented)\n",
    "        test_data_labels.append([image_cls_ind])\n",
    "\n",
    "    #plt.imshow(img_origin)\n",
    "    #plt.title(f\"Test image \")\n",
    "    #plt.show()\n",
    "\n",
    "    #break\n",
    "\n",
    "print(\"test_data_images\", len(test_data_images))\n",
    "print(\"test_data_labels\",len(test_data_labels))\n"
   ]
  },
  {
   "cell_type": "code",
   "execution_count": 144,
   "id": "e3e4fd6c-a607-4a4b-8254-e055142a5b00",
   "metadata": {},
   "outputs": [
    {
     "data": {
      "image/png": "[encoded data removed]",
      "text/plain": [
       "<Figure size 2000x1000 with 1 Axes>"
      ]
     },
     "metadata": {},
     "output_type": "display_data"
    }
   ],
   "source": [
    "test_data_labels_np = np.array(test_data_labels)\n",
    "dictionary_labels = {class_id: len(np.where(test_data_labels_np == class_id)[0]) for class_id in labels_file[\"ClassId\"].unique().tolist()}\n",
    "fig, ax = plt.subplots(figsize=(20,10))\n",
    "\n",
    "labels = dictionary_labels.keys()\n",
    "counts = dictionary_labels.values()\n",
    "bar_labels = dictionary_labels.keys()\n",
    "\n",
    "ax.bar(labels, counts, label=bar_labels )\n",
    "\n",
    "ax.set_ylabel('Images amount')\n",
    "ax.set_title('Test data spread beetween classes')\n",
    "ax.legend(title='Class labels')\n",
    "plt.savefig(fr\"{dir_path}\\docs\\data_plot.png\", dpi=300, bbox_inches=\"tight\")\n",
    "plt.show()\n"
   ]
  },
  {
   "cell_type": "code",
   "execution_count": 149,
   "id": "ec010c7c-1d90-447d-87f7-72bed2a04ed0",
   "metadata": {},
   "outputs": [
    {
     "name": "stdout",
     "output_type": "stream",
     "text": [
      "9560\n"
     ]
    }
   ],
   "source": [
    "# create data for training \n",
    "\n",
    "X = np.array(test_data_images)\n",
    "Y = np.array(test_data_labels)\n",
    "\n",
    "# will keep test data as a path to picture to save memory space\n",
    "X_train, X_test, y_train, y_test = train_test_split(X, Y, test_size=0.2, random_state=42)\n",
    "\n",
    "X_train = X_train.astype('float32') / 255.0\n",
    "X_test  = X_test.astype('float32') / 255.0\n",
    "\n",
    "\n",
    "print(len(y_train))\n"
   ]
  },
  {
   "cell_type": "code",
   "execution_count": 150,
   "id": "4e2c5c4d-85d8-4fda-a2ae-8fb8df234774",
   "metadata": {},
   "outputs": [
    {
     "ename": "NameError",
     "evalue": "name 'models' is not defined",
     "output_type": "error",
     "traceback": [
      "\u001b[1;31m---------------------------------------------------------------------------\u001b[0m",
      "\u001b[1;31mNameError\u001b[0m                                 Traceback (most recent call last)",
      "Cell \u001b[1;32mIn[150], line 34\u001b[0m\n\u001b[0;32m     29\u001b[0m     model\u001b[38;5;241m.\u001b[39mcompile(optimizer\u001b[38;5;241m=\u001b[39m\u001b[38;5;124m'\u001b[39m\u001b[38;5;124madam\u001b[39m\u001b[38;5;124m'\u001b[39m, loss\u001b[38;5;241m=\u001b[39m\u001b[38;5;124m'\u001b[39m\u001b[38;5;124mbinary_crossentropy\u001b[39m\u001b[38;5;124m'\u001b[39m, metrics\u001b[38;5;241m=\u001b[39m[\u001b[38;5;124m'\u001b[39m\u001b[38;5;124maccuracy\u001b[39m\u001b[38;5;124m'\u001b[39m])\n\u001b[0;32m     30\u001b[0m     \u001b[38;5;28;01mreturn\u001b[39;00m model\n\u001b[1;32m---> 34\u001b[0m model \u001b[38;5;241m=\u001b[39m \u001b[43mbuild_cnn\u001b[49m\u001b[43m(\u001b[49m\u001b[43m)\u001b[49m\n\u001b[0;32m     35\u001b[0m model\u001b[38;5;241m.\u001b[39msummary()\n",
      "Cell \u001b[1;32mIn[150], line 11\u001b[0m, in \u001b[0;36mbuild_cnn\u001b[1;34m(input_shape)\u001b[0m\n\u001b[0;32m     10\u001b[0m \u001b[38;5;28;01mdef\u001b[39;00m\u001b[38;5;250m \u001b[39m\u001b[38;5;21mbuild_cnn\u001b[39m(input_shape\u001b[38;5;241m=\u001b[39m(\u001b[38;5;241m128\u001b[39m, \u001b[38;5;241m128\u001b[39m, \u001b[38;5;241m3\u001b[39m)):  \u001b[38;5;66;03m# розмір зображення 128х128, 3 канали (RGB)\u001b[39;00m\n\u001b[1;32m---> 11\u001b[0m     model \u001b[38;5;241m=\u001b[39m \u001b[43mmodels\u001b[49m\u001b[38;5;241m.\u001b[39mSequential([\n\u001b[0;32m     12\u001b[0m         layers\u001b[38;5;241m.\u001b[39mConv2D(\u001b[38;5;241m32\u001b[39m, (\u001b[38;5;241m4\u001b[39m, \u001b[38;5;241m4\u001b[39m), activation\u001b[38;5;241m=\u001b[39m\u001b[38;5;124m'\u001b[39m\u001b[38;5;124mrelu\u001b[39m\u001b[38;5;124m'\u001b[39m, padding\u001b[38;5;241m=\u001b[39m\u001b[38;5;124m'\u001b[39m\u001b[38;5;124msame\u001b[39m\u001b[38;5;124m'\u001b[39m, input_shape\u001b[38;5;241m=\u001b[39minput_shape),\n\u001b[0;32m     13\u001b[0m \n\u001b[0;32m     14\u001b[0m         \u001b[38;5;66;03m# 1 згортковий блок\u001b[39;00m\n\u001b[0;32m     15\u001b[0m         layers\u001b[38;5;241m.\u001b[39mConv2D(\u001b[38;5;241m64\u001b[39m, (\u001b[38;5;241m4\u001b[39m, \u001b[38;5;241m4\u001b[39m), activation\u001b[38;5;241m=\u001b[39m\u001b[38;5;124m'\u001b[39m\u001b[38;5;124mrelu\u001b[39m\u001b[38;5;124m'\u001b[39m, padding\u001b[38;5;241m=\u001b[39m\u001b[38;5;124m'\u001b[39m\u001b[38;5;124msame\u001b[39m\u001b[38;5;124m'\u001b[39m), \u001b[38;5;66;03m# Padding = “доповнення” зображення нулями\u001b[39;00m\n\u001b[0;32m     16\u001b[0m         layers\u001b[38;5;241m.\u001b[39mMaxPooling2D((\u001b[38;5;241m2\u001b[39m, \u001b[38;5;241m2\u001b[39m)),\n\u001b[0;32m     17\u001b[0m \n\u001b[0;32m     18\u001b[0m         \u001b[38;5;66;03m# 2 згортковий блок\u001b[39;00m\n\u001b[0;32m     19\u001b[0m         layers\u001b[38;5;241m.\u001b[39mConv2D(\u001b[38;5;241m128\u001b[39m, (\u001b[38;5;241m4\u001b[39m, \u001b[38;5;241m4\u001b[39m), activation\u001b[38;5;241m=\u001b[39m\u001b[38;5;124m'\u001b[39m\u001b[38;5;124mrelu\u001b[39m\u001b[38;5;124m'\u001b[39m, padding\u001b[38;5;241m=\u001b[39m\u001b[38;5;124m'\u001b[39m\u001b[38;5;124msame\u001b[39m\u001b[38;5;124m'\u001b[39m),\n\u001b[0;32m     20\u001b[0m         layers\u001b[38;5;241m.\u001b[39mMaxPooling2D((\u001b[38;5;241m2\u001b[39m, \u001b[38;5;241m2\u001b[39m)),\n\u001b[0;32m     21\u001b[0m         layers\u001b[38;5;241m.\u001b[39mDropout(\u001b[38;5;241m0.5\u001b[39m),\n\u001b[0;32m     22\u001b[0m         \n\u001b[0;32m     23\u001b[0m         layers\u001b[38;5;241m.\u001b[39mFlatten(),\n\u001b[0;32m     24\u001b[0m         \n\u001b[0;32m     25\u001b[0m         layers\u001b[38;5;241m.\u001b[39mDense(\u001b[38;5;241m64\u001b[39m, activation\u001b[38;5;241m=\u001b[39m\u001b[38;5;124m'\u001b[39m\u001b[38;5;124mrelu\u001b[39m\u001b[38;5;124m'\u001b[39m),\n\u001b[0;32m     26\u001b[0m         layers\u001b[38;5;241m.\u001b[39mDropout(\u001b[38;5;241m0.3\u001b[39m),\n\u001b[0;32m     27\u001b[0m         layers\u001b[38;5;241m.\u001b[39mDense(\u001b[38;5;241m1\u001b[39m, activation\u001b[38;5;241m=\u001b[39m\u001b[38;5;124m'\u001b[39m\u001b[38;5;124msigmoid\u001b[39m\u001b[38;5;124m'\u001b[39m)\n\u001b[0;32m     28\u001b[0m     ])\n\u001b[0;32m     29\u001b[0m     model\u001b[38;5;241m.\u001b[39mcompile(optimizer\u001b[38;5;241m=\u001b[39m\u001b[38;5;124m'\u001b[39m\u001b[38;5;124madam\u001b[39m\u001b[38;5;124m'\u001b[39m, loss\u001b[38;5;241m=\u001b[39m\u001b[38;5;124m'\u001b[39m\u001b[38;5;124mbinary_crossentropy\u001b[39m\u001b[38;5;124m'\u001b[39m, metrics\u001b[38;5;241m=\u001b[39m[\u001b[38;5;124m'\u001b[39m\u001b[38;5;124maccuracy\u001b[39m\u001b[38;5;124m'\u001b[39m])\n\u001b[0;32m     30\u001b[0m     \u001b[38;5;28;01mreturn\u001b[39;00m model\n",
      "\u001b[1;31mNameError\u001b[0m: name 'models' is not defined"
     ]
    }
   ],
   "source": [
    "# 3. chosing data model and setup\n",
    "# typical architecture: Conv → Conv → Pool → Conv → Pool → Conv → Pool → Flatten → Dense\n",
    "\n",
    "# 3. chosing data model and setup\n",
    "#     3.1 Batch_size to choose                  Done\n",
    "#     3.2 Adam parameters                       Done\n",
    "#     3.3 Dropout                               Done\n",
    "#     4.1 between education accuracy result     Done\n",
    "\n",
    "def build_cnn(input_shape=(128, 128, 3)):  # розмір зображення 128х128, 3 канали (RGB)\n",
    "    model = models.Sequential([\n",
    "        layers.Conv2D(32, (4, 4), activation='relu', padding='same', input_shape=input_shape),\n",
    "\n",
    "        # 1 згортковий блок\n",
    "        layers.Conv2D(64, (4, 4), activation='relu', padding='same'), # Padding = “доповнення” зображення нулями\n",
    "        layers.MaxPooling2D((2, 2)),\n",
    "\n",
    "        # 2 згортковий блок\n",
    "        layers.Conv2D(128, (4, 4), activation='relu', padding='same'),\n",
    "        layers.MaxPooling2D((2, 2)),\n",
    "        layers.Dropout(0.5),\n",
    "        \n",
    "        layers.Flatten(),\n",
    "        \n",
    "        layers.Dense(64, activation='relu'),\n",
    "        layers.Dropout(0.3),\n",
    "        layers.Dense(1, activation='sigmoid')\n",
    "    ])\n",
    "    model.compile(optimizer='adam', loss='binary_crossentropy', metrics=['accuracy'])\n",
    "    return model\n",
    "\n",
    "\n",
    "\n",
    "model = build_cnn()\n",
    "model.summary()"
   ]
  },
  {
   "cell_type": "code",
   "execution_count": null,
   "id": "cffd6a7e-b871-461a-8f39-a9e608ac5e2c",
   "metadata": {},
   "outputs": [],
   "source": [
    "callbacks = [\n",
    "    EarlyStopping(monitor='val_loss', patience=5, restore_best_weights=True),\n",
    "    ModelCheckpoint(fr\"{dir_path}\\\\best_model.keras\", monitor='val_loss', save_best_only=True)\n",
    "]\n",
    "\n",
    "history = model.fit(X_train, y_train,\n",
    "                    validation_split=0.2,\n",
    "                    epochs=100,\n",
    "                    batch_size=16,\n",
    "                    callbacks=[callbacks])"
   ]
  }
 ],
 "metadata": {
  "kernelspec": {
   "display_name": "Python 3 (ipykernel)",
   "language": "python",
   "name": "python3"
  },
  "language_info": {
   "codemirror_mode": {
    "name": "ipython",
    "version": 3
   },
   "file_extension": ".py",
   "mimetype": "text/x-python",
   "name": "python",
   "nbconvert_exporter": "python",
   "pygments_lexer": "ipython3",
   "version": "3.10.6"
  }
 },
 "nbformat": 4,
 "nbformat_minor": 5
}
